{
  "cells": [
    {
      "cell_type": "markdown",
      "source": [
        "## This notebook is a modified version of [the notebook for fine-tuning Llama 3.1 8B by Unsloth](https://colab.research.google.com/drive/1Ys44kVvmeZtnICzWz0xgpRnrIOjZAuxp?usp=sharing)."
      ],
      "metadata": {
        "id": "IMGFSCLY8siU"
      }
    },
    {
      "cell_type": "markdown",
      "metadata": {
        "id": "PYIxXGUcuyVK"
      },
      "source": [
        "### Installation"
      ]
    },
    {
      "cell_type": "code",
      "source": [
        "from google.colab import drive\n",
        "drive.mount('/content/drive')\n",
        "\n",
        "auto_delete_colab_session = False\n",
        "generate_dataset_from_scratch = False\n",
        "unsloth_model_name = \"unsloth/Meta-Llama-3.1-8B-Instruct\"\n",
        "output_hf_model_name = \"author/Meta-Llama-3.1-8B-Instruct-clin-es\""
      ],
      "metadata": {
        "id": "asbZX_v5wtfz"
      },
      "execution_count": null,
      "outputs": []
    },
    {
      "cell_type": "code",
      "execution_count": null,
      "metadata": {
        "id": "He3VIzTkuyVL"
      },
      "outputs": [],
      "source": [
        "%%capture\n",
        "import os\n",
        "if \"COLAB_\" not in \"\".join(os.environ.keys()):\n",
        "    !pip install unsloth\n",
        "else:\n",
        "    # Do this only in Colab notebooks! Otherwise use pip install unsloth\n",
        "    !pip install --no-deps bitsandbytes accelerate xformers==0.0.29.post3 peft trl==0.15.2 triton cut_cross_entropy unsloth_zoo\n",
        "    !pip install sentencepiece protobuf \"datasets>=3.4.1\" huggingface_hub hf_transfer\n",
        "    !pip install --no-deps unsloth"
      ]
    },
    {
      "cell_type": "markdown",
      "metadata": {
        "id": "Ip4g3ItCuyVL"
      },
      "source": [
        "### Unsloth"
      ]
    },
    {
      "cell_type": "code",
      "execution_count": null,
      "metadata": {
        "id": "QmUBVEnvCDJv"
      },
      "outputs": [],
      "source": [
        "from unsloth import FastLanguageModel\n",
        "from google.colab import userdata\n",
        "import torch\n",
        "max_seq_length = 8192 # Choose any! We auto support RoPE Scaling internally!\n",
        "dtype = None # None for auto detection. Float16 for Tesla T4, V100, Bfloat16 for Ampere+\n",
        "load_in_4bit = False # Use 4bit quantization to reduce memory usage. Can be False.\n",
        "\n",
        "# 4bit pre quantized models we support for 4x faster downloading + no OOMs.\n",
        "fourbit_models = [\n",
        "    \"unsloth/Meta-Llama-3.1-8B-bnb-4bit\",      # Llama-3.1 15 trillion tokens model 2x faster!\n",
        "    \"unsloth/Meta-Llama-3.1-8B-Instruct-bnb-4bit\",\n",
        "    \"unsloth/Meta-Llama-3.1-70B-bnb-4bit\",\n",
        "    \"unsloth/Meta-Llama-3.1-405B-bnb-4bit\",    # We also uploaded 4bit for 405b!\n",
        "    \"unsloth/Mistral-Nemo-Base-2407-bnb-4bit\", # New Mistral 12b 2x faster!\n",
        "    \"unsloth/Mistral-Nemo-Instruct-2407-bnb-4bit\",\n",
        "    \"unsloth/mistral-7b-v0.3-bnb-4bit\",        # Mistral v3 2x faster!\n",
        "    \"unsloth/mistral-7b-instruct-v0.3-bnb-4bit\",\n",
        "    \"unsloth/Phi-3.5-mini-instruct\",           # Phi-3.5 2x faster!\n",
        "    \"unsloth/Phi-3-medium-4k-instruct\",\n",
        "    \"unsloth/gemma-2-9b-bnb-4bit\",\n",
        "    \"unsloth/gemma-2-27b-bnb-4bit\",            # Gemma 2x faster!\n",
        "] # More models at https://huggingface.co/unsloth\n",
        "\n",
        "model, tokenizer = FastLanguageModel.from_pretrained(\n",
        "    model_name = unsloth_model_name,\n",
        "    max_seq_length = max_seq_length,\n",
        "    dtype = dtype,\n",
        "    load_in_4bit = load_in_4bit,\n",
        "    token = userdata.get('HF_TOKEN') # use one if using gated models like meta-llama/Llama-2-7b-hf\n",
        ")"
      ]
    },
    {
      "cell_type": "markdown",
      "metadata": {
        "id": "SXd9bTZd1aaL"
      },
      "source": [
        "We now add LoRA adapters so we only need to update 1 to 10% of all parameters!"
      ]
    },
    {
      "cell_type": "code",
      "execution_count": null,
      "metadata": {
        "id": "6bZsfBuZDeCL"
      },
      "outputs": [],
      "source": [
        "model = FastLanguageModel.get_peft_model(\n",
        "    model,\n",
        "    r = 16, # Choose any number > 0 ! Suggested 8, 16, 32, 64, 128\n",
        "    target_modules = [\"q_proj\", \"k_proj\", \"v_proj\", \"o_proj\",\n",
        "                      \"gate_proj\", \"up_proj\", \"down_proj\",],\n",
        "    lora_alpha = 16,\n",
        "    lora_dropout = 0, # Supports any, but = 0 is optimized\n",
        "    bias = \"none\",    # Supports any, but = \"none\" is optimized\n",
        "    use_gradient_checkpointing = \"unsloth\", # True or \"unsloth\" for very long context\n",
        "    random_state = 3407,\n",
        "    use_rslora = False,  # We support rank stabilized LoRA\n",
        "    loftq_config = None, # And LoftQ\n",
        ")"
      ]
    },
    {
      "cell_type": "code",
      "source": [
        "dataset_path = \"/content/drive/MyDrive/AI/MultiClinSum 2025/Data\""
      ],
      "metadata": {
        "id": "Vj2KosM_1Lxo"
      },
      "execution_count": null,
      "outputs": []
    },
    {
      "cell_type": "markdown",
      "source": [
        "#### Run once to prepare the dataset"
      ],
      "metadata": {
        "id": "P1cXsFsc02XZ"
      }
    },
    {
      "cell_type": "code",
      "source": [
        "import os\n",
        "import pandas as pd\n",
        "from datasets import Dataset\n",
        "\n",
        "if generate_dataset_from_scratch:\n",
        "  full_texts_path = \"/content/drive/MyDrive/AI/MultiClinSum 2025/Data/fulltext\"\n",
        "  summaries_path = \"/content/drive/MyDrive/AI/MultiClinSum 2025/Data/summaries\"\n",
        "\n",
        "  full_texts = []\n",
        "\n",
        "  full_text_file_names_sorted = sorted(\n",
        "      [f for f in os.listdir(full_texts_path) if f.endswith(\".txt\")],\n",
        "      key=lambda x: int(x.split('_')[-1].removesuffix('.txt'))\n",
        "  )\n",
        "\n",
        "  for file_name in full_text_file_names_sorted:\n",
        "    print(file_name)\n",
        "    with open(f\"{full_texts_path}/{file_name}\", \"r\") as in_file:\n",
        "      full_texts.append(in_file.read())\n",
        "\n",
        "  summaries = []\n",
        "\n",
        "  summaries_file_names_sorted = sorted(\n",
        "      [f for f in os.listdir(summaries_path) if f.endswith(\".txt\")],\n",
        "      key=lambda x: int(x.split('_')[-2])\n",
        "  )\n",
        "\n",
        "  for file_name in summaries_file_names_sorted:\n",
        "    print(file_name)\n",
        "    with open(f\"{summaries_path}/{file_name}\", \"r\") as in_file:\n",
        "      summaries.append(in_file.read())\n",
        "\n",
        "  dataset_df = pd.DataFrame({'full_text': full_texts, 'summaries': summaries})\n",
        "  dataset = Dataset.from_pandas(dataset_df).train_test_split(test_size=92)\n",
        "  dataset.save_to_disk(dataset_path)"
      ],
      "metadata": {
        "id": "0QLn4T50wQVY"
      },
      "execution_count": null,
      "outputs": []
    },
    {
      "cell_type": "markdown",
      "source": [
        "#### Load dataset and apply chat template"
      ],
      "metadata": {
        "id": "tqZY9S9g09oo"
      }
    },
    {
      "cell_type": "code",
      "source": [
        "from datasets import load_from_disk\n",
        "\n",
        "train_dataset = load_from_disk(dataset_path+\"/train\")\n",
        "test_dataset = load_from_disk(dataset_path+\"/test\")\n",
        "\n",
        "print(train_dataset)\n",
        "print(test_dataset)"
      ],
      "metadata": {
        "id": "Xr6xK2XM1FFI"
      },
      "execution_count": null,
      "outputs": []
    },
    {
      "cell_type": "code",
      "source": [
        "def format_chat_messages(example):\n",
        "  text_to_summarize = example[\"full_text\"]\n",
        "  summary = example[\"summaries\"] # Fix the name pls\n",
        "  messages =  [\n",
        "  {\n",
        "    \"role\": \"system\",\n",
        "    \"content\": \"Eres un asistente médico experto en redactar resúmenes clínicos concisos y precisos en español. Tu tarea es analizar informes de casos clínicos y generar un resumen narrativo que destaque los aspectos más relevantes para profesionales de la salud, incluyendo hallazgos médicos clave como resultados de pruebas importantes y otras observaciones significativas. El resumen debe presentarse en un solo párrafo, sin utilizar viñetas, encabezados ni ningún tipo de formato especial.\"\n",
        "  },\n",
        "  {\n",
        "    \"role\": \"user\",\n",
        "    \"content\": f\"Por favor, resume el siguiente informe de caso clínico en español, enfocándote en:\\n\\n- Datos clínicos clave\\n- Resultados de pruebas importantes (laboratorio, imagenología, etc.)\\n- Diagnóstico\\n- Tratamiento\\n- Evolución del paciente\\n\\nAsegúrate de que el resumen sea claro, coherente y útil para profesionales médicos. Presenta el resumen en un solo párrafo, sin utilizar viñetas, encabezados ni ningún tipo de formato especial.\\n\\n{text_to_summarize}\"\n",
        "  },\n",
        "  {\n",
        "    \"role\": \"assistant\",\n",
        "    \"content\": summary\n",
        "  }\n",
        "  ]\n",
        "\n",
        "  fomatted_text = tokenizer.apply_chat_template(messages, tokenize = False, add_generation_prompt = False)\n",
        "  return { \"text\" : fomatted_text }\n"
      ],
      "metadata": {
        "id": "RLg9FLbeBWWs"
      },
      "execution_count": null,
      "outputs": []
    },
    {
      "cell_type": "code",
      "execution_count": null,
      "metadata": {
        "id": "LjY75GoYUCB8"
      },
      "outputs": [],
      "source": [
        "dataset = train_dataset.map(format_chat_messages).remove_columns(['full_text', 'summaries'])"
      ]
    },
    {
      "cell_type": "code",
      "source": [
        "dataset[0]"
      ],
      "metadata": {
        "id": "HBu0KFmFC_-S"
      },
      "execution_count": null,
      "outputs": []
    },
    {
      "cell_type": "markdown",
      "metadata": {
        "id": "idAEIeSQ3xdS"
      },
      "source": [
        "<a name=\"Train\"></a>\n",
        "### Train the model"
      ]
    },
    {
      "cell_type": "code",
      "execution_count": null,
      "metadata": {
        "id": "95_Nn-89DhsL"
      },
      "outputs": [],
      "source": [
        "from trl import SFTTrainer\n",
        "from transformers import TrainingArguments\n",
        "from unsloth import is_bfloat16_supported\n",
        "\n",
        "trainer = SFTTrainer(\n",
        "    model = model,\n",
        "    tokenizer = tokenizer,\n",
        "    train_dataset = dataset,\n",
        "    dataset_text_field = \"text\",\n",
        "    max_seq_length = max_seq_length,\n",
        "    dataset_num_proc = 2,\n",
        "    packing = False,\n",
        "    args = TrainingArguments(\n",
        "        per_device_train_batch_size = 2,\n",
        "        gradient_accumulation_steps = 4,\n",
        "        warmup_steps = 25,\n",
        "        num_train_epochs = 1,\n",
        "        learning_rate = 2e-4,\n",
        "        fp16 = not is_bfloat16_supported(),\n",
        "        bf16 = is_bfloat16_supported(),\n",
        "        logging_steps = 1,\n",
        "        optim = \"adamw_8bit\",\n",
        "        weight_decay = 0.01,\n",
        "        lr_scheduler_type = \"linear\",\n",
        "        seed = 3407,\n",
        "        output_dir = \"outputs\",\n",
        "        report_to = \"none\",\n",
        "    ),\n",
        ")"
      ]
    },
    {
      "cell_type": "code",
      "execution_count": null,
      "metadata": {
        "cellView": "form",
        "id": "2ejIt2xSNKKp"
      },
      "outputs": [],
      "source": [
        "# @title Show current memory stats\n",
        "gpu_stats = torch.cuda.get_device_properties(0)\n",
        "start_gpu_memory = round(torch.cuda.max_memory_reserved() / 1024 / 1024 / 1024, 3)\n",
        "max_memory = round(gpu_stats.total_memory / 1024 / 1024 / 1024, 3)\n",
        "print(f\"GPU = {gpu_stats.name}. Max memory = {max_memory} GB.\")\n",
        "print(f\"{start_gpu_memory} GB of memory reserved.\")"
      ]
    },
    {
      "cell_type": "code",
      "execution_count": null,
      "metadata": {
        "id": "yqxqAZ7KJ4oL"
      },
      "outputs": [],
      "source": [
        "trainer_stats = trainer.train()"
      ]
    },
    {
      "cell_type": "code",
      "execution_count": null,
      "metadata": {
        "cellView": "form",
        "id": "pCqnaKmlO1U9"
      },
      "outputs": [],
      "source": [
        "# @title Show final memory and time stats\n",
        "used_memory = round(torch.cuda.max_memory_reserved() / 1024 / 1024 / 1024, 3)\n",
        "used_memory_for_lora = round(used_memory - start_gpu_memory, 3)\n",
        "used_percentage = round(used_memory / max_memory * 100, 3)\n",
        "lora_percentage = round(used_memory_for_lora / max_memory * 100, 3)\n",
        "print(f\"{trainer_stats.metrics['train_runtime']} seconds used for training.\")\n",
        "print(\n",
        "    f\"{round(trainer_stats.metrics['train_runtime']/60, 2)} minutes used for training.\"\n",
        ")\n",
        "print(f\"Peak reserved memory = {used_memory} GB.\")\n",
        "print(f\"Peak reserved memory for training = {used_memory_for_lora} GB.\")\n",
        "print(f\"Peak reserved memory % of max memory = {used_percentage} %.\")\n",
        "print(f\"Peak reserved memory for training % of max memory = {lora_percentage} %.\")"
      ]
    },
    {
      "cell_type": "markdown",
      "metadata": {
        "id": "uMuVrWbjAzhc"
      },
      "source": [
        "<a name=\"Save\"></a>\n",
        "### Saving, loading finetuned models\n",
        "To save the final model as LoRA adapters, either use Huggingface's `push_to_hub` for an online save or `save_pretrained` for a local save.\n",
        "\n",
        "**[NOTE]** This ONLY saves the LoRA adapters, and not the full model. To save to 16bit or GGUF, scroll down!"
      ]
    },
    {
      "cell_type": "code",
      "execution_count": null,
      "metadata": {
        "id": "upcOlWe7A1vc"
      },
      "outputs": [],
      "source": [
        "model.push_to_hub(output_hf_model_name, token = userdata.get('HF_TOKEN')) # Online saving\n",
        "tokenizer.push_to_hub(output_hf_model_name, token = userdata.get('HF_TOKEN')) # Online saving"
      ]
    },
    {
      "cell_type": "code",
      "source": [
        "model.push_to_hub_merged(output_hf_model_name + \"-merged-16bit\", tokenizer, save_method = \"merged_16bit\", token = userdata.get('HF_TOKEN'))"
      ],
      "metadata": {
        "id": "eIqstVSDMIen"
      },
      "execution_count": null,
      "outputs": []
    },
    {
      "cell_type": "code",
      "source": [
        "if auto_delete_colab_session:\n",
        "  from google.colab import runtime\n",
        "  runtime.unassign()"
      ],
      "metadata": {
        "id": "bJ8iNHKJFQuF"
      },
      "execution_count": null,
      "outputs": []
    }
  ],
  "metadata": {
    "colab": {
      "provenance": [],
      "machine_shape": "hm",
      "gpuType": "L4"
    },
    "kernelspec": {
      "display_name": "Python 3",
      "name": "python3"
    },
    "language_info": {
      "name": "python"
    },
    "accelerator": "GPU"
  },
  "nbformat": 4,
  "nbformat_minor": 0
}